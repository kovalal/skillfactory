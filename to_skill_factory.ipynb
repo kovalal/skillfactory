{
 "cells": [
  {
   "cell_type": "code",
   "execution_count": 72,
   "metadata": {},
   "outputs": [],
   "source": [
    "from scipy.sparse import csr_matrix\n",
    "import numpy as np\n",
    "import pandas as pd\n",
    "import implicit"
   ]
  },
  {
   "cell_type": "markdown",
   "metadata": {},
   "source": [
    "# Подготовка данных"
   ]
  },
  {
   "cell_type": "markdown",
   "metadata": {},
   "source": [
    "### Провайдеры "
   ]
  },
  {
   "cell_type": "code",
   "execution_count": 73,
   "metadata": {},
   "outputs": [],
   "source": [
    "df_providers = pd.read_csv('providers.csv', index_col=None)\n",
    "df_providers.drop('Unnamed: 0', axis=1, inplace=True)\n",
    "df_providers = df_providers.merge(df_groups, on = 'grp_id', how='left')"
   ]
  },
  {
   "cell_type": "code",
   "execution_count": 74,
   "metadata": {},
   "outputs": [
    {
     "data": {
      "text/html": [
       "<div>\n",
       "<style scoped>\n",
       "    .dataframe tbody tr th:only-of-type {\n",
       "        vertical-align: middle;\n",
       "    }\n",
       "\n",
       "    .dataframe tbody tr th {\n",
       "        vertical-align: top;\n",
       "    }\n",
       "\n",
       "    .dataframe thead th {\n",
       "        text-align: right;\n",
       "    }\n",
       "</style>\n",
       "<table border=\"1\" class=\"dataframe\">\n",
       "  <thead>\n",
       "    <tr style=\"text-align: right;\">\n",
       "      <th></th>\n",
       "      <th>prv_id</th>\n",
       "      <th>grp_id</th>\n",
       "      <th>prv_short_name</th>\n",
       "      <th>igrp_id</th>\n",
       "    </tr>\n",
       "  </thead>\n",
       "  <tbody>\n",
       "    <tr>\n",
       "      <th>0</th>\n",
       "      <td>1638</td>\n",
       "      <td>141</td>\n",
       "      <td>Мегателл</td>\n",
       "      <td>26</td>\n",
       "    </tr>\n",
       "    <tr>\n",
       "      <th>1</th>\n",
       "      <td>3237</td>\n",
       "      <td>141</td>\n",
       "      <td>Райффайзенбанк Австрия</td>\n",
       "      <td>26</td>\n",
       "    </tr>\n",
       "    <tr>\n",
       "      <th>2</th>\n",
       "      <td>10153</td>\n",
       "      <td>141</td>\n",
       "      <td>НОРД СТАР</td>\n",
       "      <td>26</td>\n",
       "    </tr>\n",
       "    <tr>\n",
       "      <th>3</th>\n",
       "      <td>11804</td>\n",
       "      <td>103</td>\n",
       "      <td>Велнет</td>\n",
       "      <td>9</td>\n",
       "    </tr>\n",
       "    <tr>\n",
       "      <th>4</th>\n",
       "      <td>13247</td>\n",
       "      <td>30</td>\n",
       "      <td>Казкоммерцбанк</td>\n",
       "      <td>4</td>\n",
       "    </tr>\n",
       "  </tbody>\n",
       "</table>\n",
       "</div>"
      ],
      "text/plain": [
       "   prv_id  grp_id          prv_short_name  igrp_id\n",
       "0    1638     141                Мегателл       26\n",
       "1    3237     141  Райффайзенбанк Австрия       26\n",
       "2   10153     141               НОРД СТАР       26\n",
       "3   11804     103                  Велнет        9\n",
       "4   13247      30          Казкоммерцбанк        4"
      ]
     },
     "execution_count": 74,
     "metadata": {},
     "output_type": "execute_result"
    }
   ],
   "source": [
    "df_providers.head()"
   ]
  },
  {
   "cell_type": "markdown",
   "metadata": {},
   "source": [
    "### Терминалы "
   ]
  },
  {
   "cell_type": "code",
   "execution_count": 85,
   "metadata": {},
   "outputs": [
    {
     "data": {
      "text/html": [
       "<div>\n",
       "<style scoped>\n",
       "    .dataframe tbody tr th:only-of-type {\n",
       "        vertical-align: middle;\n",
       "    }\n",
       "\n",
       "    .dataframe tbody tr th {\n",
       "        vertical-align: top;\n",
       "    }\n",
       "\n",
       "    .dataframe thead th {\n",
       "        text-align: right;\n",
       "    }\n",
       "</style>\n",
       "<table border=\"1\" class=\"dataframe\">\n",
       "  <thead>\n",
       "    <tr style=\"text-align: right;\">\n",
       "      <th></th>\n",
       "      <th>trm_id</th>\n",
       "      <th>trm_city_id</th>\n",
       "    </tr>\n",
       "  </thead>\n",
       "  <tbody>\n",
       "    <tr>\n",
       "      <th>0</th>\n",
       "      <td>310720791183</td>\n",
       "      <td>26.0</td>\n",
       "    </tr>\n",
       "    <tr>\n",
       "      <th>1</th>\n",
       "      <td>310721140873</td>\n",
       "      <td>2963.0</td>\n",
       "    </tr>\n",
       "    <tr>\n",
       "      <th>2</th>\n",
       "      <td>310729918092</td>\n",
       "      <td>4456.0</td>\n",
       "    </tr>\n",
       "    <tr>\n",
       "      <th>3</th>\n",
       "      <td>310618332013</td>\n",
       "      <td>3230.0</td>\n",
       "    </tr>\n",
       "    <tr>\n",
       "      <th>4</th>\n",
       "      <td>310729253681</td>\n",
       "      <td>3120.0</td>\n",
       "    </tr>\n",
       "  </tbody>\n",
       "</table>\n",
       "</div>"
      ],
      "text/plain": [
       "         trm_id  trm_city_id\n",
       "0  310720791183         26.0\n",
       "1  310721140873       2963.0\n",
       "2  310729918092       4456.0\n",
       "3  310618332013       3230.0\n",
       "4  310729253681       3120.0"
      ]
     },
     "execution_count": 85,
     "metadata": {},
     "output_type": "execute_result"
    }
   ],
   "source": [
    "df_terminals = pd.read_csv('terminals.csv')\n",
    "df_terminals.drop('Unnamed: 0', axis=1, inplace=True)\n",
    "df_terminals.head()"
   ]
  },
  {
   "cell_type": "markdown",
   "metadata": {},
   "source": [
    "### Транзакции "
   ]
  },
  {
   "cell_type": "code",
   "execution_count": 76,
   "metadata": {},
   "outputs": [
    {
     "data": {
      "text/html": [
       "<div>\n",
       "<style scoped>\n",
       "    .dataframe tbody tr th:only-of-type {\n",
       "        vertical-align: middle;\n",
       "    }\n",
       "\n",
       "    .dataframe tbody tr th {\n",
       "        vertical-align: top;\n",
       "    }\n",
       "\n",
       "    .dataframe thead th {\n",
       "        text-align: right;\n",
       "    }\n",
       "</style>\n",
       "<table border=\"1\" class=\"dataframe\">\n",
       "  <thead>\n",
       "    <tr style=\"text-align: right;\">\n",
       "      <th></th>\n",
       "      <th>phone_number</th>\n",
       "      <th>prv_id</th>\n",
       "      <th>trm_id</th>\n",
       "      <th>count</th>\n",
       "      <th>amount</th>\n",
       "      <th>last_date</th>\n",
       "    </tr>\n",
       "  </thead>\n",
       "  <tbody>\n",
       "    <tr>\n",
       "      <th>0</th>\n",
       "      <td>82351539750781238</td>\n",
       "      <td>54795</td>\n",
       "      <td>112104003</td>\n",
       "      <td>1</td>\n",
       "      <td>285.897</td>\n",
       "      <td>2020-08-15 21:00:01</td>\n",
       "    </tr>\n",
       "    <tr>\n",
       "      <th>1</th>\n",
       "      <td>1739000057</td>\n",
       "      <td>520</td>\n",
       "      <td>115585052</td>\n",
       "      <td>1</td>\n",
       "      <td>844.660</td>\n",
       "      <td>2020-08-15 21:00:01</td>\n",
       "    </tr>\n",
       "    <tr>\n",
       "      <th>2</th>\n",
       "      <td>1614090218385229824</td>\n",
       "      <td>520</td>\n",
       "      <td>113142183</td>\n",
       "      <td>1</td>\n",
       "      <td>279.460</td>\n",
       "      <td>2020-08-15 21:00:01</td>\n",
       "    </tr>\n",
       "    <tr>\n",
       "      <th>3</th>\n",
       "      <td>2141140571107251738</td>\n",
       "      <td>26</td>\n",
       "      <td>116791246</td>\n",
       "      <td>1</td>\n",
       "      <td>94.200</td>\n",
       "      <td>2020-08-15 21:00:01</td>\n",
       "    </tr>\n",
       "    <tr>\n",
       "      <th>4</th>\n",
       "      <td>1844674851135093932</td>\n",
       "      <td>1166178</td>\n",
       "      <td>110888844</td>\n",
       "      <td>1</td>\n",
       "      <td>386.220</td>\n",
       "      <td>2020-08-15 21:00:01</td>\n",
       "    </tr>\n",
       "  </tbody>\n",
       "</table>\n",
       "</div>"
      ],
      "text/plain": [
       "          phone_number   prv_id     trm_id  count   amount  \\\n",
       "0    82351539750781238    54795  112104003      1  285.897   \n",
       "1           1739000057      520  115585052      1  844.660   \n",
       "2  1614090218385229824      520  113142183      1  279.460   \n",
       "3  2141140571107251738       26  116791246      1   94.200   \n",
       "4  1844674851135093932  1166178  110888844      1  386.220   \n",
       "\n",
       "             last_date  \n",
       "0  2020-08-15 21:00:01  \n",
       "1  2020-08-15 21:00:01  \n",
       "2  2020-08-15 21:00:01  \n",
       "3  2020-08-15 21:00:01  \n",
       "4  2020-08-15 21:00:01  "
      ]
     },
     "execution_count": 76,
     "metadata": {},
     "output_type": "execute_result"
    }
   ],
   "source": [
    "df = pd.read_csv('txns', index_col=None)\n",
    "df.drop('Unnamed: 0', axis=1, inplace=True)\n",
    "df.rename(columns={'txn_to_prv_id': 'prv_id'}, inplace=True)\n",
    "df.head()"
   ]
  },
  {
   "cell_type": "markdown",
   "metadata": {},
   "source": [
    "В данном случае в пользователь у нас храниться в поле 'phone_number', а товар в поле 'prv_id'. Проиндесируем поля, что бы можно было создать разряженную матрицу"
   ]
  },
  {
   "cell_type": "code",
   "execution_count": 77,
   "metadata": {},
   "outputs": [],
   "source": [
    "# df_items - каталог товаров, iitem - index товара\n",
    "df_items = df[['prv_id']].drop_duplicates().reset_index(drop=True)\n",
    "df_items['iitem'] = df_items.index\n",
    "df_items = df_items.merge(df_providers[['prv_id', 'grp_id', 'prv_short_name']], on='prv_id', how='left')"
   ]
  },
  {
   "cell_type": "code",
   "execution_count": 78,
   "metadata": {},
   "outputs": [],
   "source": [
    "# каталог пользователей, iuser - index пользователя\n",
    "df_users = df[['phone_number']].drop_duplicates().reset_index(drop=True)\n",
    "df_users['iuser'] = df_users.index"
   ]
  },
  {
   "cell_type": "code",
   "execution_count": 79,
   "metadata": {},
   "outputs": [
    {
     "name": "stdout",
     "output_type": "stream",
     "text": [
      "<class 'pandas.core.frame.DataFrame'>\n",
      "Int64Index: 23344822 entries, 0 to 23344821\n",
      "Data columns (total 10 columns):\n",
      " #   Column        Dtype  \n",
      "---  ------        -----  \n",
      " 0   phone_number  int64  \n",
      " 1   prv_id        int64  \n",
      " 2   trm_id        int64  \n",
      " 3   count         int64  \n",
      " 4   amount        float64\n",
      " 5   last_date     object \n",
      " 6   iuser         int64  \n",
      " 7   iitem         int64  \n",
      " 8   grp_id        int64  \n",
      " 9   trm_city_id   float64\n",
      "dtypes: float64(2), int64(7), object(1)\n",
      "memory usage: 1.9+ GB\n"
     ]
    }
   ],
   "source": [
    "# добавляем индексы каталога пользователей\n",
    "df = df.merge(df_users, on='phone_number', how='left')\n",
    "# добавляем индексы каталога товаров\n",
    "df = df.merge(df_items[['iitem', 'prv_id', 'grp_id']], on='prv_id', how='left')\n",
    "# добавляем ид города\n",
    "df = df.merge(df_terminals[['trm_id', 'trm_city_id']], on='trm_id', how='left')\n",
    "\n",
    "df.info()"
   ]
  },
  {
   "cell_type": "markdown",
   "metadata": {},
   "source": [
    "Есть ряд локальных провайдеров с большими объемами, которые будут сильно искажать нам картину. Попробуем от них избавиться. Для этого найдем провайдеров с объемами больше чем p1  * 100% остальных провайдеров и при этом с меньшим количество городов чем 100% - p2 * 100% "
   ]
  },
  {
   "cell_type": "code",
   "execution_count": 80,
   "metadata": {},
   "outputs": [],
   "source": [
    "def clear_one(df, p1=0.8, p2=0.2):\n",
    "    # избавляемся от транзакций операторов с большими объемами, но локальных\n",
    "    prv_sum = df[['prv_id', 'count', 'amount']].groupby('prv_id').sum()\n",
    "    volumed_provs = prv_sum[prv_sum['count'] > prv_sum['count'].quantile(0.8)]\n",
    "    prv_city = df[df.prv_id.isin(volumed_provs.index)][['prv_id', 'trm_city_id']]\\\n",
    "    .groupby('prv_id')['trm_city_id'].nunique()\n",
    "    \n",
    "    return df[~df.prv_id.isin(anomaly.index)]\n"
   ]
  },
  {
   "cell_type": "code",
   "execution_count": null,
   "metadata": {},
   "outputs": [],
   "source": []
  },
  {
   "cell_type": "code",
   "execution_count": null,
   "metadata": {},
   "outputs": [],
   "source": []
  },
  {
   "cell_type": "markdown",
   "metadata": {},
   "source": [
    "# Обучаем модель"
   ]
  },
  {
   "cell_type": "code",
   "execution_count": 91,
   "metadata": {},
   "outputs": [],
   "source": [
    "def split_df(data_frame, field, frac=0.5):\n",
    "    X, y = [], []\n",
    "    d = data_frame.groupby(field).count()['prv_id']\n",
    "    #X = data_frame.sort_values('last_date').groupby('phone_number').first()['txn_to_prv_id']\n",
    "    d = d[d > 2]\n",
    "    d = d.sample(int(len(d) * frac))\n",
    "    #return X\n",
    "    X_df = data_frame[data_frame[field].isin(d.index)]\n",
    "    train_df = data_frame[~data_frame[field].isin(d.index)]\n",
    "    for _, g in X_df.sort_values('last_date').groupby(field):\n",
    "        X.append(g.prv_id.values[0])\n",
    "        y.append(g.prv_id.values[1:])\n",
    "    return train_df, X, y"
   ]
  },
  {
   "cell_type": "code",
   "execution_count": 92,
   "metadata": {},
   "outputs": [],
   "source": [
    "df, X, y = split_df(df, 'phone_number', 0.05)"
   ]
  },
  {
   "cell_type": "code",
   "execution_count": 153,
   "metadata": {},
   "outputs": [],
   "source": [
    "class Advisor:\n",
    "    \n",
    "    \n",
    "    model_conf = {'K1': 0.7, 'B': 0.7, 'num_threads': 0}\n",
    "    \n",
    "    def __init__(self, df, rating, item_name, user_name, item_catalog, user_catalog):\n",
    "        import gc\n",
    "        print(len(item_catalog))\n",
    "        self.df = df\n",
    "        self.item_catalog = item_catalog\n",
    "        self.user_catalog = user_catalog\n",
    "        self.rating = rating\n",
    "        self.user = user_name\n",
    "        self.item = item_name\n",
    "        self.sparse_matrix = self.get_sparse_matrix()\n",
    "        self.model = implicit.nearest_neighbours.BM25Recommender(\n",
    "            K=len(self.item_catalog), **self.model_conf)\n",
    "        #del self.df\n",
    "        #gc.collect()\n",
    "    \n",
    "    @property\n",
    "    def item_user(self):\n",
    "        return self.sparse_matrix.T.tocsr()\n",
    "    \n",
    "    def get_index_item(self, item):\n",
    "        return self.item_catalog[self.item_catalog.prv_id==item][self.item].values[0]\n",
    "    \n",
    "    def get_item_by_index(self, index):\n",
    "        return self.item_catalog.loc[index, ['prv_id', 'prv_short_name']].values\n",
    "    \n",
    "    def get_sparse_matrix(self):\n",
    "        # список количества покупок\n",
    "        data = self.df[self.rating].tolist()\n",
    "        # список индексов пользователей\n",
    "        items = self.df[self.item].tolist()\n",
    "        # список индексов провайдеров\n",
    "        users = self.df[self.user].tolist()\n",
    "        # создаем раряженную матрицу\n",
    "        print(f'{max(users)} - {max(items)} - {len(self.user_catalog), len(self.item_catalog)}')\n",
    "        return csr_matrix(\n",
    "            (\n",
    "                data, \n",
    "                (\n",
    "                    users,\n",
    "                    items\n",
    "                )\n",
    "            ),\n",
    "            shape = (\n",
    "                len(self.user_catalog),\n",
    "                len(self.item_catalog)\n",
    "            ), \n",
    "            dtype=np.int32\n",
    "        )   \n",
    "    \n",
    "    def fit(self, item_user=None):\n",
    "        if not item_user:\n",
    "            item_user = self.item_user\n",
    "        self.model.fit(self.item_user)\n",
    "        #bm25 = self.model.fit(self.sparse_matrix.T.tocsr())\n",
    "        return self.model\n",
    "    \n",
    "    def recomend(self, item, n=3):\n",
    "        iitem = self.get_index_item(item)\n",
    "        r_items = self.model.similar_items(iitem, n+1)\n",
    "        return [self.get_item_by_index(i) for i, _ in r_items][1:]\n",
    "        \n",
    "    def hitrate(self, X, y, n=3):\n",
    "        hit = 0\n",
    "        n = 0\n",
    "        for x, Y in zip(X, y):\n",
    "            for one in self.recomend(x, n):\n",
    "                if one[0] in Y:\n",
    "                    hit += 1\n",
    "            n += 1\n",
    "        return hit/n"
   ]
  },
  {
   "cell_type": "code",
   "execution_count": 154,
   "metadata": {},
   "outputs": [
    {
     "name": "stdout",
     "output_type": "stream",
     "text": [
      "3025\n",
      "23064131 - 3024 - (23064132, 3025)\n"
     ]
    }
   ],
   "source": [
    "predictor = Advisor(df, 'count', 'iitem', 'iuser', df_items, df_users)"
   ]
  },
  {
   "cell_type": "code",
   "execution_count": 155,
   "metadata": {},
   "outputs": [
    {
     "data": {
      "application/vnd.jupyter.widget-view+json": {
       "model_id": "4795b31bb7554b668b1e145af06698ff",
       "version_major": 2,
       "version_minor": 0
      },
      "text/plain": [
       "HBox(children=(FloatProgress(value=0.0, max=3025.0), HTML(value='')))"
      ]
     },
     "metadata": {},
     "output_type": "display_data"
    },
    {
     "name": "stdout",
     "output_type": "stream",
     "text": [
      "\n"
     ]
    },
    {
     "data": {
      "text/plain": [
       "<implicit.nearest_neighbours.BM25Recommender at 0x7f16347a2b10>"
      ]
     },
     "execution_count": 155,
     "metadata": {},
     "output_type": "execute_result"
    }
   ],
   "source": [
    "predictor.fit()"
   ]
  },
  {
   "cell_type": "code",
   "execution_count": 156,
   "metadata": {},
   "outputs": [
    {
     "name": "stdout",
     "output_type": "stream",
     "text": [
      "(213629, 'PariMatch.kz') - ['703-303', 'TELENET', 'Avon-продукция']\n",
      "(234793, 'inDriver') - ['Фастен Рус', 'SAMPO.RU', 'Такси Сатурн']\n",
      "(899483, '1xbet.kz') - ['Лифт-Профи НС', 'ТТК.Интернет', 'RCS & RDS']\n",
      "(63973, 'TENNISI.KZ') - []\n",
      "(96278, 'QIWI Кошелек.Пополнение') - ['QIWI Кошелек.Пополнение (безнал)', 'Qiwi Кошелек.Пополнение (Копия)', 'Фонбет']\n",
      "(997932, 'Innopay') - ['QIWI Кошелек.', 'Мегафон (Россия)', 'Av_hr']\n",
      "(3120, 'Dalacom & Pathword') - ['QIWI Кошелек.', 'Olimpbet', 'Altel 4G']\n",
      "(20917, 'Olimpbet') - ['Снятие наличных по коду в банкоматах ККБ', 'QIWI Кошелек.', 'Activ']\n",
      "(96278, 'QIWI Кошелек.Пополнение') - ['QIWI Кошелек.Пополнение (безнал)', 'Qiwi Кошелек.Пополнение (Копия)', 'Фонбет']\n",
      "(102466, 'QIWI Кошелек.') - ['Av_hr', 'Innopay', 'Olimpbet']\n"
     ]
    }
   ],
   "source": [
    "for i in X[5:15]:\n",
    "    r = predictor.recomend(i, 3)\n",
    "    print(f\"{(i, df_items[df_items.prv_id==i].prv_short_name.values[0])} - {[i for _, i in r]}\")"
   ]
  },
  {
   "cell_type": "code",
   "execution_count": 157,
   "metadata": {},
   "outputs": [
    {
     "data": {
      "text/plain": [
       "0.2650334075723831"
      ]
     },
     "execution_count": 157,
     "metadata": {},
     "output_type": "execute_result"
    }
   ],
   "source": [
    "predictor.hitrate(X, y)"
   ]
  },
  {
   "cell_type": "code",
   "execution_count": null,
   "metadata": {},
   "outputs": [],
   "source": []
  }
 ],
 "metadata": {
  "kernelspec": {
   "display_name": "Python 3(N.Kartashov) env 2",
   "language": "python",
   "name": "nikolay_kartashov_python3_2"
  },
  "language_info": {
   "codemirror_mode": {
    "name": "ipython",
    "version": 3
   },
   "file_extension": ".py",
   "mimetype": "text/x-python",
   "name": "python",
   "nbconvert_exporter": "python",
   "pygments_lexer": "ipython3",
   "version": "3.7.6"
  }
 },
 "nbformat": 4,
 "nbformat_minor": 2
}
